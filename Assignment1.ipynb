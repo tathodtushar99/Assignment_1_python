{
  "nbformat": 4,
  "nbformat_minor": 0,
  "metadata": {
    "colab": {
      "provenance": []
    },
    "kernelspec": {
      "name": "python3",
      "display_name": "Python 3"
    },
    "language_info": {
      "name": "python"
    }
  },
  "cells": [
    {
      "cell_type": "markdown",
      "source": [
        "Exercise: Answer the questions and complete the tasks\n"
      ],
      "metadata": {
        "id": "YmUMVmyQ5D6-"
      }
    },
    {
      "cell_type": "code",
      "execution_count": null,
      "metadata": {
        "colab": {
          "base_uri": "https://localhost:8080/"
        },
        "id": "RXmjqz9Q3XP6",
        "outputId": "64d833f9-6020-4b70-e3d8-229620b87fa6"
      },
      "outputs": [
        {
          "output_type": "execute_result",
          "data": {
            "text/plain": [
              "2401"
            ]
          },
          "metadata": {},
          "execution_count": 2
        }
      ],
      "source": [
        "# What is 7 power of 4 ?\n",
        "7**4"
      ]
    },
    {
      "cell_type": "code",
      "source": [
        "# Split the string \"Hi there Yogesh !\"\n",
        "s = 'Hi there Yogesh!'\n",
        "s.split()"
      ],
      "metadata": {
        "colab": {
          "base_uri": "https://localhost:8080/"
        },
        "id": "tMolfUKK5GHz",
        "outputId": "98809d40-d0dd-438b-c513-7cf1215168e2"
      },
      "execution_count": null,
      "outputs": [
        {
          "output_type": "execute_result",
          "data": {
            "text/plain": [
              "['Hi', 'there', 'Yogesh!']"
            ]
          },
          "metadata": {},
          "execution_count": 4
        }
      ]
    },
    {
      "cell_type": "code",
      "source": [
        "# ** Given the variables:**\n",
        "\n",
        "# planet = \"Earth\" diameter = 12742\n",
        "\n",
        "# ** Use .format() to print the following string: **\n",
        "\n",
        "# The diameter of Earth is 12742 kilometers.\n",
        "\n",
        "planet = \"Earth\"\n",
        "diameter = 12742\n",
        "\n",
        "print(\"the diameter of {} is {} kilometers\".format(planet, diameter))"
      ],
      "metadata": {
        "colab": {
          "base_uri": "https://localhost:8080/"
        },
        "id": "2XSFywg46opk",
        "outputId": "7d08d156-f0fe-4981-e440-08c38bae93a2"
      },
      "execution_count": null,
      "outputs": [
        {
          "output_type": "stream",
          "name": "stdout",
          "text": [
            "the diameter of Earth is 12742 kilometers\n"
          ]
        }
      ]
    },
    {
      "cell_type": "code",
      "source": [
        "# ** Given this nested list, use indexing to grab the word \"hello\" **\n",
        "lst = [1,2,[3,4],[5,[100,200,['hello']],23,11],1,7]\n",
        "\n",
        "lst[3][1][2]\n"
      ],
      "metadata": {
        "colab": {
          "base_uri": "https://localhost:8080/"
        },
        "id": "mtG239Kx7kZY",
        "outputId": "8b6c2bb5-5038-45c9-e272-4a7701f5dd24"
      },
      "execution_count": null,
      "outputs": [
        {
          "output_type": "execute_result",
          "data": {
            "text/plain": [
              "['hello']"
            ]
          },
          "metadata": {},
          "execution_count": 7
        }
      ]
    },
    {
      "cell_type": "code",
      "source": [
        "# Tuples are \"Immutable\" and list is \"Mutable\""
      ],
      "metadata": {
        "id": "8HD065g-9eoW"
      },
      "execution_count": null,
      "outputs": []
    },
    {
      "cell_type": "markdown",
      "source": [
        " Create a function that grabs the email website domain from a string in the form:\n",
        "\n",
        "user@domain.com\n",
        "So for example, passing \"user@domain.com\" would return: domain.com\n",
        "s = \"user@domain.com\""
      ],
      "metadata": {
        "id": "CbESyLrc8_cn"
      }
    },
    {
      "cell_type": "code",
      "source": [
        "\n",
        "def get_domain(s):\n",
        "  return s.split('@')[1]\n",
        "get_domain(\"user@domain.com\")\n",
        "  \n"
      ],
      "metadata": {
        "colab": {
          "base_uri": "https://localhost:8080/",
          "height": 36
        },
        "id": "-uRbh4vm9nOQ",
        "outputId": "f2916653-de7e-4012-89ff-a60d3f22fcc1"
      },
      "execution_count": null,
      "outputs": [
        {
          "output_type": "execute_result",
          "data": {
            "text/plain": [
              "'domain.com'"
            ],
            "application/vnd.google.colaboratory.intrinsic+json": {
              "type": "string"
            }
          },
          "metadata": {},
          "execution_count": 25
        }
      ]
    },
    {
      "cell_type": "code",
      "source": [
        "# Print 'hello'\n",
        "d = {'k1':[1,2,3,{'tricky':['oh','man','inception',{'target':[1,2,3,'hello']}]}]}\n",
        "\n",
        "d['k1'][3]['tricky'][3]['target'][3]"
      ],
      "metadata": {
        "colab": {
          "base_uri": "https://localhost:8080/",
          "height": 36
        },
        "id": "GJtw1WRL_7e0",
        "outputId": "d5b61cd6-fdaf-4ab5-ed70-5597a4ca1f4e"
      },
      "execution_count": null,
      "outputs": [
        {
          "output_type": "execute_result",
          "data": {
            "text/plain": [
              "'hello'"
            ],
            "application/vnd.google.colaboratory.intrinsic+json": {
              "type": "string"
            }
          },
          "metadata": {},
          "execution_count": 27
        }
      ]
    },
    {
      "cell_type": "markdown",
      "source": [
        "Create a basic function that returns True if the word 'dog' is contained in the input string. Don't worry about edge cases like a punctuation being attached to the word dog, but do account for capitalization.\n"
      ],
      "metadata": {
        "id": "hF3qkit-84yA"
      }
    },
    {
      "cell_type": "code",
      "source": [
        "\n",
        "def find_dog():\n",
        "  str = 'Is there any dog in the dog house'\n",
        "  str.upper()\n",
        "  if 'DOG' in str:\n",
        "    return True\n",
        "  else :\n",
        "    return False\n",
        "find_dog()"
      ],
      "metadata": {
        "colab": {
          "base_uri": "https://localhost:8080/"
        },
        "id": "KhbnzacdApte",
        "outputId": "70eaf1af-7393-4a88-ff15-3bceda1fe435"
      },
      "execution_count": null,
      "outputs": [
        {
          "output_type": "execute_result",
          "data": {
            "text/plain": [
              "False"
            ]
          },
          "metadata": {},
          "execution_count": 38
        }
      ]
    },
    {
      "cell_type": "code",
      "source": [
        "# Count \"dog\" in the string\n",
        "\n",
        "\n",
        "def count_dog(string):\n",
        "    count = 0\n",
        "    words = string.split()\n",
        "    for word in words:\n",
        "        if word.lower() == \"dog\":\n",
        "            count += 1\n",
        "    return count\n",
        "d = \"I have a dog who is very beautiful. My friend has a DOG named lucy. Dog are very active, loving and caring.\"\n",
        "print(count_dog(d))\n"
      ],
      "metadata": {
        "colab": {
          "base_uri": "https://localhost:8080/"
        },
        "id": "CXKcUtijCme0",
        "outputId": "07023d74-62bb-416e-cab5-d524733f2265"
      },
      "execution_count": null,
      "outputs": [
        {
          "output_type": "stream",
          "name": "stdout",
          "text": [
            "3\n"
          ]
        }
      ]
    },
    {
      "cell_type": "markdown",
      "source": [
        " Use lambda expressions and the filter() function to filter out words from a list that don't start with the letter 's'. For example:\n"
      ],
      "metadata": {
        "id": "ckja5Tt48xpI"
      }
    },
    {
      "cell_type": "code",
      "source": [
        "\n",
        "seq = ['soup','dog','salad','cat','great']\n",
        "# should be filtered down to:['soup','salad']\n",
        "list(filter(lambda x:x[0]!='s',seq))"
      ],
      "metadata": {
        "colab": {
          "base_uri": "https://localhost:8080/"
        },
        "id": "C9Iuhs8V2Vec",
        "outputId": "72ba94d5-879e-4536-94a8-5a4c0e6347d2"
      },
      "execution_count": null,
      "outputs": [
        {
          "output_type": "execute_result",
          "data": {
            "text/plain": [
              "['dog', 'cat', 'great']"
            ]
          },
          "metadata": {},
          "execution_count": 4
        }
      ]
    },
    {
      "cell_type": "markdown",
      "source": [
        "You are driving a little too fast, and a police officer stops you. Write a function to return one of 3 possible results: \"No ticket\", \"Small ticket\", or \"Big Ticket\". If your speed is 60 or less, the result is \"No Ticket\". If speed is between 61 and 80 inclusive, the result is \"Small Ticket\". If speed is 81 or more, the result is \"Big Ticket\". Unless it is your birthday (encoded as a boolean value in the parameters of the function) -- on your birthday, your speed can be 5 higher in all cases.\n"
      ],
      "metadata": {
        "id": "c_ldMsge4cAr"
      }
    },
    {
      "cell_type": "code",
      "source": [
        "\n",
        "def get_ticket_result(speed, birthday):\n",
        "    if birthday:\n",
        "      new_speed = speed - 5  # Adjust speed limit by 5 mph if it's your birthday\n",
        "\n",
        "    if speed <= 60:\n",
        "        return \"No Ticket\"\n",
        "    elif 61 <= speed <= 80:\n",
        "        return \"Small Ticket\"\n",
        "    else:\n",
        "        return \"Big Ticket\"\n",
        "\n",
        "get_ticket_result(85, True)"
      ],
      "metadata": {
        "id": "8j0Ebsno3Wsr",
        "colab": {
          "base_uri": "https://localhost:8080/",
          "height": 36
        },
        "outputId": "10154547-99c9-4118-f11c-6f31e2ada5ec"
      },
      "execution_count": 7,
      "outputs": [
        {
          "output_type": "execute_result",
          "data": {
            "text/plain": [
              "'Big Ticket'"
            ],
            "application/vnd.google.colaboratory.intrinsic+json": {
              "type": "string"
            }
          },
          "metadata": {},
          "execution_count": 7
        }
      ]
    },
    {
      "cell_type": "markdown",
      "source": [
        "Given a string print number num by extracting all the\n",
        "digits from the string as in string\n",
        "Print negative number if the first character in \n",
        "string is '-'\n",
        "eg.\n",
        "-123abcd should return -123,abcd456-->456,fdhfh78dsd89--->7889,-56dssd78-->-5678"
      ],
      "metadata": {
        "id": "bjdgmRf44YHa"
      }
    },
    {
      "cell_type": "code",
      "source": [
        "s=input(\"Enter the input:\")\n",
        "num=\"\"\n",
        "data=[0,1,2,3,4,5,6,7,8,9]\n",
        "if s[0]==\"-\":\n",
        "    num=num+s[0]\n",
        "for c in s:\n",
        "    if c in str(data):\n",
        "        num=num+c\n",
        "print(num)"
      ],
      "metadata": {
        "colab": {
          "base_uri": "https://localhost:8080/"
        },
        "id": "kcO7LwvM4NBb",
        "outputId": "73e08ee9-c64e-4dd7-85a4-35c8aa0a0b02"
      },
      "execution_count": 15,
      "outputs": [
        {
          "output_type": "stream",
          "name": "stdout",
          "text": [
            "Enter the input:-123abc\n",
            "-123\n"
          ]
        }
      ]
    },
    {
      "cell_type": "markdown",
      "source": [
        "WAP to check whether a number is palindrome or not on following conditions.\n",
        "1. take input number\n",
        "2. add number and its reverse\n",
        "3. check that number is palindrome or not,if not then sum and its reverse"
      ],
      "metadata": {
        "id": "d7nKkT3p7Noh"
      }
    },
    {
      "cell_type": "code",
      "source": [
        "n1=input(\"Enter the Number:\")\n",
        "n2=int(n1[::-1])\n",
        "n3=str(int(n1)+n2)\n",
        "while n3!=n3[::-1]:\n",
        "    n3=str(int(n3)+int(n3[::-1]))\n",
        "    print(\"Number is :\",n3)\n",
        "    print(\"Revrse is :\",n3[::-1])\n",
        "print(\"palindrome is :\",n3)\n"
      ],
      "metadata": {
        "colab": {
          "base_uri": "https://localhost:8080/"
        },
        "id": "Aoi1O5Eg6_ts",
        "outputId": "c43e2561-e57d-4bcd-e519-67cf3c3fee6a"
      },
      "execution_count": 17,
      "outputs": [
        {
          "output_type": "stream",
          "name": "stdout",
          "text": [
            "Enter the Number:123\n",
            "palindrome is : 444\n"
          ]
        }
      ]
    },
    {
      "cell_type": "markdown",
      "source": [
        "Write a python function to find and display the five \n",
        "digit number in which the first digit is two more than \n",
        "the second,the second digit is two more than the third,\n",
        "the fourth digit is two less than the third, and the \n",
        "last digit is two more than\n",
        "the fourth.The sum of the third,fourth and fifth digits\n",
        "equals the first.The sum of all the digits is 19"
      ],
      "metadata": {
        "id": "oYDAnoim70rO"
      }
    },
    {
      "cell_type": "code",
      "source": [
        "def fun1():\n",
        "    for a in range(0,10):\n",
        "        b=a-2\n",
        "        c=b-2\n",
        "        d=c-2\n",
        "        if c+d+c==a and a+b+c+d+c==19:\n",
        "            print(str(a)+str(b)+str(c)+str(d)+str(c))\n",
        "fun1()"
      ],
      "metadata": {
        "colab": {
          "base_uri": "https://localhost:8080/"
        },
        "id": "C1jEHLJL79Kc",
        "outputId": "eba4d13c-fa98-4e26-8694-d1fecc358ba4"
      },
      "execution_count": 19,
      "outputs": [
        {
          "output_type": "stream",
          "name": "stdout",
          "text": [
            "75313\n"
          ]
        }
      ]
    }
  ]
}